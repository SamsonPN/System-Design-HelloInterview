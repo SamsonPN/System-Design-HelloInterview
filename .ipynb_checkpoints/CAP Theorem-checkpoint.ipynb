{
 "cells": [
  {
   "cell_type": "markdown",
   "id": "2722b949",
   "metadata": {},
   "source": [
    "# CAP Theorem"
   ]
  },
  {
   "cell_type": "markdown",
   "id": "8e878e1d",
   "metadata": {},
   "source": [
    "## What is CAP Theorem?\n",
    "\n",
    "- in a distributed system, you can only have 2 out of these 3 properties:\n",
    "    1. __Consistency__: all nodes see the same data at the same time\n",
    "        - any writes made to one node will be reflected in other nodes when read\n",
    "    2. __Availability__: every request receives a response\n",
    "        - with the exception of failing nodes\n",
    "        - data not guaranteed to be the most up-to-date\n",
    "    3. __Partition Tolerance__: if part of a system fails, the whole system still continues to operate\n",
    "- __IN ANY SYSTEM, PARTITION TOLERANCE IS A MUST!!!__\n",
    "    * network failures will happen => your system must be able to operate in spite of it\n",
    "    * that's 1/3 already chosen\n",
    "    * therefore, the real choice is between consistency vs availability if a network partition occurs"
   ]
  },
  {
   "cell_type": "markdown",
   "id": "d38b3bdc",
   "metadata": {},
   "source": [
    "## When to Choose Consistency:\n",
    "\n",
    "* some systems require consistency, even at the cost of availability\n",
    "* Ticket Booking Systems: two people shouldn't be able to book a flight for the same seat!\n",
    "* E-commerce Inventory: you can't sell the same item to multiple people\n",
    "* Financial Systems: imagine if the prices for stocks on Fidelity were not up-to-date for an order"
   ]
  },
  {
   "cell_type": "markdown",
   "id": "e0774bfa",
   "metadata": {},
   "source": [
    "## When to Choose Availability:\n",
    "\n",
    "* __would it be catastrophic if users saw inconsistent data for a bit? if yes, then choose consistency!__\n",
    "* majority of systems can tolerate some inconsistency and should prioritize availability\n",
    "    - the system eventually becoming consistent is fine\n",
    "    - might just be slightly delayed\n",
    "* Social Media: user A updates their profile but user B might not see the changes right away\n",
    "* Content Platforms (like Netflix): an update to a movie description might not be propagated right away and that's ok\n",
    "* Review Sites (like Yelp): showing outdated info like restaurant hours isn't the end of the world"
   ]
  },
  {
   "cell_type": "markdown",
   "id": "25aea53b",
   "metadata": {},
   "source": [
    "## CAP Theorem in System Design Interviews:\n",
    "\n",
    "* CAP Theorem should be one of the first things we talk about in an interview\n",
    "* essentially in an SD interview, we begin by:\n",
    "    1. aligning on functional requirements (features)\n",
    "    2. defining non-functional requirements (system qualities) => CAP Theorem comes into play here\n",
    "\n",
    "### If you prioritize Consistency, keep these in mind:\n",
    "* Distributed Transactions: if you have multiple data stores (e.g. cache and database), you must ensure that they are in sync\n",
    "    - use two-phase commit protocols (2PC)\n",
    "        * if you update one store, you must update another\n",
    "        * if the update in one fails, you must abort the update\n",
    "        * all-or-nothing!!!\n",
    "    - this adds complexity and higher latency to a system but ensures strong consistency\n",
    "* Single-Node Solutions: using a single database instance to avoid propagation issues\n",
    "    - limits scalability but ensures consistency without too many challenges by having a single source of truth\n",
    "* Technology Choices:\n",
    "    - Traditional RDBMSs: PostgreSQL, MySQL\n",
    "    - Google Spanner\n",
    "    - DyanmoDB (in strong consistency mode)\n",
    "\n",
    "#### If you prioritize Availability: keep these in mind:\n",
    "* Multiple Replicas: adding more read replicas but asynchronously replicating information between them\n",
    "    - this allows for reads to have high availability at the cost of serving stale data\n",
    "* Change Data Capture (CDC): use a CDC to track changes in the primary database to then propagate those changes asynchronously to replicas, caches, and other systems\n",
    "    - allows primary system to remain available while updates flow through the system eventually\n",
    "* Technology Choices:\n",
    "    - Cassandra\n",
    "    - DynamoDB (in multiple availability zone configuration)\n",
    "    - Redis clusters"
   ]
  },
  {
   "cell_type": "markdown",
   "id": "1f19586f",
   "metadata": {},
   "source": [
    "## Advanced CAP Theorem Considerations\n",
    "\n",
    "* for senior/staff+ discussions\n",
    "* sometimes you need to have both availability and consistency but for different features\n",
    "* e.g. Ticketmaster:\n",
    "    - booking a seat at an event: strong consistency to prevent double-booking\n",
    "    - viewing event details: prioritize availability (showing outdated event information is ok)\n",
    "\n",
    "### Different Levels of Consistency:\n",
    "* __when talking about Consistency, its mostly associated with _strong consistency___\n",
    "    - but there's actually a spectrum of consistency\n",
    "* Strong Consistency: all reads reflect most recent write\n",
    "    - most expensive consistency model for performance\n",
    "    - necessary for systems that need absolute accuracy, i.e. bank account balances\n",
    "* Casual Consistency: related events appear in the same order to all users\n",
    "    - logical ordering of dependent actions\n",
    "    - e.g. ensure comment 2 replies to comment 1 and not the other way around\n",
    "* Read-your-own-writes Consistency: users always see their own updates immediately while others might see an older version\n",
    "    - common insocial media platforms\n",
    "    - i.e. see your own profile updates right away\n",
    "* Eventual Consistency: system will become consistent over time but may have temporary inconsistencies\n",
    "    - most relaxed form\n",
    "    - used in DNS where temporary inconsistency is acceptable\n",
    "    - this is the default behavior of most distributed databases\n",
    "    - __this is what we are choosing when we prioritize availability__"
   ]
  }
 ],
 "metadata": {
  "kernelspec": {
   "display_name": "JavaScript (Node.js)",
   "language": "javascript",
   "name": "javascript"
  },
  "language_info": {
   "file_extension": ".js",
   "mimetype": "application/javascript",
   "name": "javascript",
   "version": "16.14.2"
  }
 },
 "nbformat": 4,
 "nbformat_minor": 5
}
