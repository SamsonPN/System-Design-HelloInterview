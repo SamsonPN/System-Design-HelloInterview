{
 "cells": [
  {
   "cell_type": "markdown",
   "id": "f324f70d",
   "metadata": {},
   "source": [
    "Change log:\n",
    "\n",
    "* 5/17/2025: Added notes up to \"Why B-Trees Are The Default choice\". Will continue adding hand-written notes from video later."
   ]
  },
  {
   "cell_type": "markdown",
   "id": "dfb8bd3f",
   "metadata": {},
   "source": [
    "# Database Indexing"
   ]
  },
  {
   "cell_type": "markdown",
   "id": "8cee51a0",
   "metadata": {},
   "source": [
    "## How Database Indexes Work\n",
    "\n",
    "* data in a database is written to disk as a collection of files\n",
    "    - think of it like a notebook where you write line by line when a new thought comes in\n",
    "\n",
    "### Physical Storage and Access Patterns\n",
    "\n",
    "* when data lives on disk (SSDs nowadays), we can only process that data when we bring it into memory\n",
    "    - every query has to load data from disk => RAM\n",
    "* without an index, you have to scan through every page of data one by one\n",
    "    - loading each page into memory and scanning for the item you're looking for\n",
    "    - e.g. like looking through every page of a book to find a specific word\n",
    "* but an index gives us a structured path to the data we need\n",
    "    - it can tell us which pages contain the data we're looking for\n",
    "    - this is like using the Table of Contents to jump to the relevant pages\n",
    "\n",
    "### The Cost of Indexing\n",
    "\n",
    "* indexes are not free though\n",
    "* they require additonal disk space since they're a data structure\n",
    "    - and they might even occupy as much space as the original data\n",
    "* write performance takes a hit\n",
    "    - inserting new rows/updating existing rows will not only update the main table but also every index on it\n",
    "    - multiple indexes = multipe disk writes for a single write operation\n",
    "* __when do indexes hurt more than help?__:\n",
    "    - when a table has frequent writes but infrequent reads\n",
    "        - e.g. logging table where we insert new records but rarely query old ones\n",
    "    - or when the table is small with just a few hundred rows\n",
    "        - cost of maintaining an index might be more than cost of a simple sequentialscan"
   ]
  },
  {
   "cell_type": "markdown",
   "id": "256a10b6",
   "metadata": {},
   "source": [
    "## Types of Indexes:\n",
    "\n",
    "### B-Tree Indexes:\n",
    "\n",
    "* most common type of index\n",
    "\n",
    "#### The Structure of B-Trees:\n",
    "\n",
    "* self-balancing tree\n",
    "    - maintains __sorted data__\n",
    "    - allows efficient insertions, deletions, and searches\n",
    "    - can have multiple children (hundreds in practice)\n",
    "    - each node contains an ordered array of keys and pointers, structured to minimize disk reads\n",
    "* every node in a B-tree follows strict rules:\n",
    "    - all leaf nodes must be at the same depth\n",
    "    - each node can contain between m/2 and m keys (where m is the order of the tree)\n",
    "        * order(m) = max # of children a node can have\n",
    "    - a node with k keys must have exactly k+1 children\n",
    "    - keys within a node are kept in sorted order\n",
    "* each node fits in a single disk page\n",
    "    - typicall 8KB\n",
    "    - e.g. when PostgreSQL needs to find a record with id=350, it might only need to read 2-3 pages from disk: root node => internal node => leaf node\n",
    "\n",
    "#### Real-World Examples\n",
    "\n",
    "* PostgreSQL uses B-trees for almost everything: primary keys, unique constraints, and most regular indexs\n",
    "    ```\n",
    "    CREATE TABLE users {\n",
    "        id SERIAL PRIMARY KEY,\n",
    "        email VARCHAR(255) UNIQUE\n",
    "    }\n",
    "    ```\n",
    "    - this automatically creates 2 B-tree indexes: one for the primary key and one for the unique email constraint\n",
    "    - these B-trees maintain sorted order\n",
    "* when you create an index in MongoDB: db.users.createIndex({ \"email\": 1 });\n",
    "    - you create a B-tree that maps email values to document locations\n",
    "\n",
    "#### Why B-trees Are the Default Choice:\n",
    "\n",
    "* they excel at everything databases need\n",
    "* B-trees are a safe bet to use for indexes in interviews\n",
    "1. maintain sorted order, making range queries and ORDER BY operations efficient\n",
    "2. self-balancing, ensuring predictable performance even as data grows\n",
    "3. minimize disk I/O by matching their structure to how databases store data\n",
    "4. handle both equality searches (email='X') and range searches (age > 25) equally well\n",
    "5. remain balanced even with random inserts and deletes, avoiding the performance cliffs you might see with simpler tree structures"
   ]
  },
  {
   "cell_type": "code",
   "execution_count": null,
   "id": "943c98b4",
   "metadata": {},
   "outputs": [],
   "source": []
  },
  {
   "cell_type": "code",
   "execution_count": null,
   "id": "dec78145",
   "metadata": {},
   "outputs": [],
   "source": []
  },
  {
   "cell_type": "code",
   "execution_count": null,
   "id": "666c45ed",
   "metadata": {},
   "outputs": [],
   "source": []
  }
 ],
 "metadata": {
  "kernelspec": {
   "display_name": "JavaScript (Node.js)",
   "language": "javascript",
   "name": "javascript"
  },
  "language_info": {
   "file_extension": ".js",
   "mimetype": "application/javascript",
   "name": "javascript",
   "version": "16.14.2"
  }
 },
 "nbformat": 4,
 "nbformat_minor": 5
}
