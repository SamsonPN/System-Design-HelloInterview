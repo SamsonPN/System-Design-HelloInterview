{
 "cells": [
  {
   "cell_type": "markdown",
   "id": "f324f70d",
   "metadata": {},
   "source": [
    "Change log:\n",
    "\n",
    "* 5/17/2025: Added notes up to \"Why B-Trees Are The Default choice\". Will continue adding hand-written notes from video later.\n",
    "* 5/18/2025: Finished adding hand-written notes on the other types of indexes and when to use them."
   ]
  },
  {
   "cell_type": "markdown",
   "id": "dfb8bd3f",
   "metadata": {},
   "source": [
    "# Database Indexing"
   ]
  },
  {
   "cell_type": "markdown",
   "id": "8cee51a0",
   "metadata": {},
   "source": [
    "## How Database Indexes Work\n",
    "\n",
    "* data in a database is written to disk as a collection of files\n",
    "    - think of it like a notebook where you write line by line when a new thought comes in\n",
    "\n",
    "### Physical Storage and Access Patterns\n",
    "\n",
    "* when data lives on disk (SSDs nowadays), we can only process that data when we bring it into memory\n",
    "    - every query has to load data from disk => RAM\n",
    "* without an index, you have to scan through every page of data one by one\n",
    "    - loading each page into memory and scanning for the item you're looking for\n",
    "    - e.g. like looking through every page of a book to find a specific word\n",
    "* but an index gives us a structured path to the data we need\n",
    "    - it can tell us which pages contain the data we're looking for\n",
    "    - this is like using the Table of Contents to jump to the relevant pages\n",
    "\n",
    "### The Cost of Indexing\n",
    "\n",
    "* indexes are not free though\n",
    "* they require additonal disk space since they're a data structure\n",
    "    - and they might even occupy as much space as the original data\n",
    "* write performance takes a hit\n",
    "    - inserting new rows/updating existing rows will not only update the main table but also every index on it\n",
    "    - multiple indexes = multipe disk writes for a single write operation\n",
    "* __when do indexes hurt more than help?__:\n",
    "    - when a table has frequent writes but infrequent reads\n",
    "        - e.g. logging table where we insert new records but rarely query old ones\n",
    "    - or when the table is small with just a few hundred rows\n",
    "        - cost of maintaining an index might be more than cost of a simple sequentialscan"
   ]
  },
  {
   "cell_type": "markdown",
   "id": "256a10b6",
   "metadata": {},
   "source": [
    "## Types of Indexes:\n",
    "\n",
    "### B-Tree Indexes:\n",
    "\n",
    "* most common type of index\n",
    "\n",
    "#### The Structure of B-Trees:\n",
    "\n",
    "* self-balancing tree\n",
    "    - maintains __sorted data__\n",
    "    - allows efficient insertions, deletions, and searches\n",
    "    - can have multiple children (hundreds in practice)\n",
    "    - each node contains an ordered array of keys and pointers, structured to minimize disk reads\n",
    "* every node in a B-tree follows strict rules:\n",
    "    - all leaf nodes must be at the same depth\n",
    "    - each node can contain between m/2 and m keys (where m is the order of the tree)\n",
    "        * order(m) = max # of children a node can have\n",
    "    - a node with k keys must have exactly k+1 children\n",
    "    - keys within a node are kept in sorted order\n",
    "* each node fits in a single disk page\n",
    "    - typicall 8KB\n",
    "    - e.g. when PostgreSQL needs to find a record with id=350, it might only need to read 2-3 pages from disk: root node => internal node => leaf node\n",
    "\n",
    "#### Real-World Examples\n",
    "\n",
    "* PostgreSQL uses B-trees for almost everything: primary keys, unique constraints, and most regular indexs\n",
    "    ```\n",
    "    CREATE TABLE users {\n",
    "        id SERIAL PRIMARY KEY,\n",
    "        email VARCHAR(255) UNIQUE\n",
    "    }\n",
    "    ```\n",
    "    - this automatically creates 2 B-tree indexes: one for the primary key and one for the unique email constraint\n",
    "    - these B-trees maintain sorted order\n",
    "* when you create an index in MongoDB: db.users.createIndex({ \"email\": 1 });\n",
    "    - you create a B-tree that maps email values to document locations\n",
    "\n",
    "#### Why B-trees Are the Default Choice:\n",
    "\n",
    "* they excel at everything databases need\n",
    "* B-trees are a safe bet to use for indexes in interviews\n",
    "1. maintain sorted order, making range queries and ORDER BY operations efficient\n",
    "2. self-balancing, ensuring predictable performance even as data grows\n",
    "3. minimize disk I/O by matching their structure to how databases store data\n",
    "4. handle both equality searches (email='X') and range searches (age > 25) equally well\n",
    "5. remain balanced even with random inserts and deletes, avoiding the performance cliffs you might see with simpler tree structures"
   ]
  },
  {
   "cell_type": "markdown",
   "id": "75cb9117",
   "metadata": {},
   "source": [
    "## Hash Index:\n",
    "\n",
    "* uses a hash map\n",
    "* pass data into hash function to get a key\n",
    "    - key will grab value, which is a page where our item is\n",
    "* rarely used in production databases\n",
    "    - they offer O(1) lookups but B-trees not only perform just as well for exact matches but also for range queries and sorting too\n",
    "* hash indexes used mostly for in-memory stores like Redis\n",
    "    - where disk-I/O patterns not relevant\n",
    "    - useful for caching"
   ]
  },
  {
   "cell_type": "markdown",
   "id": "f7687d0c",
   "metadata": {},
   "source": [
    "## Geospatial Index:\n",
    "\n",
    "* search regions using latitude/longitude\n",
    "    - e.g. yelp, find nearby friends\n",
    "* B-trees not good here b/c B-trees good for __1-Dimensional data__\n",
    "    - in order to grab data for a region using latitude and longitutde, B-trees must query:\n",
    "        1. all data for latitutde\n",
    "        2. all data for longitude\n",
    "        3. merge them together\n",
    "    - so you get huge slices of data in both dimensions and have to perform an expensive merge\n",
    "* for Geospatial indexes, we have special indexes/algorithms:\n",
    "    1. Geohashing\n",
    "    2. Quad Trees\n",
    "    3. R-Trees"
   ]
  },
  {
   "cell_type": "markdown",
   "id": "da05d5e1",
   "metadata": {},
   "source": [
    "### Geohashing (unconditional recursive split into hash strings)\n",
    "\n",
    "* here's how it works:\n",
    "    1. take map of world\n",
    "    2. split into 4 parts\n",
    "    3. label each part as hash strings\n",
    "    4. then for each part recursively split it up further\n",
    "* for every split, we get increasing levels of precision\n",
    "* when you convert latitutde/longitude into these hash strings, we find that nearby areas share the same __prefix__\n",
    "    - e.g. the Bay Area might have a hash string of 123, but San Francisco has a hash string of 1234 while Daly City has a hash string of 1235\n",
    "    - regardless, they both share the same prefix: 123\n",
    "* we can then build a B-tree on top of these hashes and get ~O(1) lookups\n",
    "    - normally use base-32 encoding for Geohash\n",
    "    - e.g. LA = 9qh16"
   ]
  },
  {
   "cell_type": "markdown",
   "id": "46e870b9",
   "metadata": {},
   "source": [
    "### Quad Trees (conditional recursive split into tree)\n",
    "\n",
    "* similar to Geohash in which we split world into parts recursively\n",
    "    - but we split the world into a tree structure, not hash strings\n",
    "    - also, we only split parts with __high density__\n",
    "        * density determined by a k-value\n",
    "        * if # of objects in a part > k, then split it further\n",
    "        * and that split is now a __child node__ of its parent node\n",
    "* just traverse down quad tree for lookups"
   ]
  },
  {
   "cell_type": "markdown",
   "id": "c2748905",
   "metadata": {},
   "source": [
    "### R-Tree:\n",
    "\n",
    "* derived from Quad Trees\n",
    "    - however, has dynamic splitting/clustering to group nearby items\n",
    "    - still represented as a tree but not splitting exactly by 4s"
   ]
  },
  {
   "cell_type": "markdown",
   "id": "a62d92a1",
   "metadata": {},
   "source": [
    "### Overview of Geospatial Indexes:\n",
    "\n",
    "* Geohashing = very popular\n",
    "    - used in Redis, production databases\n",
    "    - can use database indexes on top of it like B-trees\n",
    "* Quad Trees: foundational but not used in production\n",
    "* R-Tree: used in production like PostGIS"
   ]
  },
  {
   "cell_type": "markdown",
   "id": "74391a56",
   "metadata": {},
   "source": [
    "## Inverted Index\n",
    "\n",
    "* used for text search\n",
    "    - B-trees only good for finding prefixes\n",
    "    - but text can appear in ANY position so can't use it\n",
    "* how does it work?\n",
    "    - create a hash map\n",
    "    - key = words/tokens\n",
    "    - value = list of documents they appear in\n",
    "    - so search for text and get list of docs"
   ]
  },
  {
   "cell_type": "markdown",
   "id": "769ff1c2",
   "metadata": {},
   "source": [
    "## When to Use Indexes?\n",
    "\n",
    "* if low data access or low data => full table scan, no index needed\n",
    "* if table size > 10k rows => use index\n",
    "* What type of data?\n",
    "    - full text search = Inverted Index\n",
    "    - location data => Geospatial Index\n",
    "    - exact in-memory matches => hash index/B-tree\n",
    "    - everything else (default): B-trees"
   ]
  }
 ],
 "metadata": {
  "kernelspec": {
   "display_name": "JavaScript (Node.js)",
   "language": "javascript",
   "name": "javascript"
  },
  "language_info": {
   "file_extension": ".js",
   "mimetype": "application/javascript",
   "name": "javascript",
   "version": "16.14.2"
  }
 },
 "nbformat": 4,
 "nbformat_minor": 5
}
