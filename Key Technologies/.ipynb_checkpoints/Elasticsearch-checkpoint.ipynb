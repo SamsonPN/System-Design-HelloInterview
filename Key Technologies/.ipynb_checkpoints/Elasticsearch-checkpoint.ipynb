{
 "cells": [
  {
   "cell_type": "markdown",
   "id": "a933cac7",
   "metadata": {},
   "source": [
    "# Elasticsearch"
   ]
  },
  {
   "cell_type": "markdown",
   "id": "35b44dbf",
   "metadata": {},
   "source": [
    "## Basic Concepts\n",
    "\n",
    "### Documents\n",
    "\n",
    "* basically JSON objects that you search over\n",
    "* each one has a unique ID\n",
    "```\n",
    "{\n",
    "      \"id\": \"XYZ123\",\n",
    "      \"title\": \"The Great Gatsby\",\n",
    "      \"author\": \"F. Scott Fitzgerald\",\n",
    "      \"price\": 10.99,\n",
    "      \"createdAt\": \"2024-01-01T00:00:00.000Z\"\n",
    "}\n",
    "```\n",
    "\n",
    "### Index\n",
    "\n",
    "* a collection of documents\n",
    "* searches are done against Indexes which return a list of documents\n",
    "\n",
    "### Mappings and Fields\n",
    "\n",
    "* Mapping = schema of the Index that defines the fields the Index can have and its data type\n",
    "    - determines which field is searchable\n",
    "* example of mapping:\n",
    "    - keyword type = treats entire thing as a single value, a single token\n",
    "        * if your id = 123, you can only search for it if your query = 123,\n",
    "        * it would not return anything if your query = 12\n",
    "        * think Hash map\n",
    "    - text type = words or phrases of the text can be searched for\n",
    "        * e.g. \"the quick brown fox\" can be searched for with \"quick brown\"\n",
    "        * think Inverted Index"
   ]
  },
  {
   "cell_type": "code",
   "execution_count": null,
   "id": "44f67922",
   "metadata": {},
   "outputs": [],
   "source": [
    "{\n",
    "  \"properties\": {\n",
    "    \"id\": { \"type\": \"keyword\" },\n",
    "    \"title\": { \"type\": \"text\" },\n",
    "    \"author\": { \"type\": \"text\" },\n",
    "    \"price\": { \"type\": \"float\" },\n",
    "    \"createdAt\": { \"type\": \"date\" }\n",
    "  }\n",
    "}\n"
   ]
  },
  {
   "cell_type": "markdown",
   "id": "83776130",
   "metadata": {},
   "source": [
    "* Mappings can affect the performance of your cluster\n",
    "    - too many fields in the Mapping that aren't actually searchable increases memory overhead of Index = wastes memory!!!\n",
    "    - __you are allowed to not have every documents' fields in your Mapping__\n",
    "    - the `dynamic` setting determines how to go about adding new fields into the Mapping\n",
    "        * dynamic: true => adds new fields into Mapping if it encounters a new field\n",
    "        * dynamic: false => disregards new fields in new documents not in the Mapping, i.e. doesn't add them to Mapping\n",
    "        * dynamic: strict => will throw an error if it encounters new fields in new documents"
   ]
  },
  {
   "cell_type": "code",
   "execution_count": null,
   "id": "848fb5ad",
   "metadata": {},
   "outputs": [],
   "source": [
    "// PUT users_index\n",
    "{\n",
    "    \"mappings\": {\n",
    "        \"dynamic\": false, // IMPORTANT\n",
    "            \"properties\": {\n",
    "                \"name\": {\n",
    "                    \"type\": \"text\"\n",
    "                },\n",
    "            \"createdAt\": {\n",
    "                \"type\": \"date\"\n",
    "            }\n",
    "        }\n",
    "    }\n",
    "}\n",
    "\n",
    "\n",
    "// POST users_index/_doc\n",
    "{\n",
    "    \"name\": \"Alice\",\n",
    "    \"createdAt\": \"2024-01-01T12:00:00Z\",\n",
    "    \"occupation\": \"Engineer\"\n",
    "}"
   ]
  },
  {
   "cell_type": "markdown",
   "id": "f6feb5ef",
   "metadata": {},
   "source": [
    "## Basic Use"
   ]
  },
  {
   "cell_type": "markdown",
   "id": "91a143f5",
   "metadata": {},
   "source": [
    "### Create an Index"
   ]
  },
  {
   "cell_type": "code",
   "execution_count": null,
   "id": "84873f5f",
   "metadata": {},
   "outputs": [],
   "source": [
    "// PUT /books\n",
    "{\n",
    "  \"settings\": {\n",
    "    \"number_of_shards\": 1,\n",
    "    \"number_of_replicas\": 1\n",
    "  }\n",
    "}"
   ]
  },
  {
   "cell_type": "markdown",
   "id": "e8f83bf7",
   "metadata": {},
   "source": [
    "### Set a Mapping\n",
    "\n",
    "* if most of the fields in your data are not searchable, you can create a Mapping for the index without relying on the dynamic mapping\n",
    "* you can see that one of the fields has a type of `nested`\n",
    "    - this means that these are nested documents with their own fields\n",
    "    - your decision on when to nest something is entirely dependent on its query patterns\n",
    "        * if something is queried often but updated infrequently, you might want to nest it\n",
    "        * this is similar to normalization/denormalization tradeoff with SQL databases"
   ]
  },
  {
   "cell_type": "code",
   "execution_count": null,
   "id": "aa3802af",
   "metadata": {},
   "outputs": [],
   "source": [
    "// PUT /books/_mapping\n",
    "{\n",
    "  \"properties\": {\n",
    "    \"title\": { \"type\": \"text\" },\n",
    "    \"author\": { \"type\": \"keyword\" },\n",
    "    \"description\": { \"type\": \"text\" },\n",
    "    \"price\": { \"type\": \"float\" },\n",
    "    \"publish_date\": { \"type\": \"date\" },\n",
    "    \"categories\": { \"type\": \"keyword\" },\n",
    "    \"reviews\": {\n",
    "      \"type\": \"nested\", // IMPORTANT!!!\n",
    "      \"properties\": {\n",
    "        \"user\": { \"type\": \"keyword\" },\n",
    "        \"rating\": { \"type\": \"integer\" },\n",
    "        \"comment\": { \"type\": \"text\" }\n",
    "      }\n",
    "    }\n",
    "  }\n",
    "}"
   ]
  },
  {
   "cell_type": "markdown",
   "id": "8646af2f",
   "metadata": {},
   "source": [
    "### Add Documents\n",
    "\n",
    "*  simple POST request to /_doc endpoint\n",
    "* each request will return a document ID and data on how it persisted across the cluster\n",
    "    - the `version` field can be used to update the documents atomically"
   ]
  },
  {
   "cell_type": "code",
   "execution_count": null,
   "id": "c8154bbe",
   "metadata": {},
   "outputs": [],
   "source": [
    "// POST /books/_doc\n",
    "{\n",
    "  \"title\": \"The Great Gatsby\",\n",
    "  \"author\": \"F. Scott Fitzgerald\",\n",
    "  \"description\": \"A novel about the American Dream in the Jazz Age\",\n",
    "  \"price\": 9.99,\n",
    "  \"publish_date\": \"1925-04-10\",\n",
    "  \"categories\": [\"Classic\", \"Fiction\"],\n",
    "  \"reviews\": [\n",
    "    {\n",
    "      \"user\": \"reader1\",\n",
    "      \"rating\": 5,\n",
    "      \"comment\": \"A masterpiece!\"\n",
    "    },\n",
    "    {\n",
    "      \"user\": \"reader2\",\n",
    "      \"rating\": 4,\n",
    "      \"comment\": \"Beautifully written, but a bit sad.\"\n",
    "    }\n",
    "  ]\n",
    "}\n",
    "\n",
    "// RESPONSE\n",
    "{\n",
    "  \"_index\": \"books\",\n",
    "  \"_id\": \"kLEHMYkBq7V9x4qGJOnh\",\n",
    "  \"_version\": 1, // IMPORTANT!!!\n",
    "  \"result\": \"created\",\n",
    "  \"_shards\": {\n",
    "    \"total\": 2,\n",
    "    \"successful\": 1,\n",
    "    \"failed\": 0\n",
    "  },\n",
    "  \"_seq_no\": 0,\n",
    "  \"_primary_term\": 1\n",
    "}"
   ]
  },
  {
   "cell_type": "markdown",
   "id": "4be3c198",
   "metadata": {},
   "source": [
    "### Updating Documents\n",
    "\n",
    "* similar to creating a document but requires you specify the document ID in the URL\n",
    "* if you pass in `version` as the query parameter, you prevent overwriting your changes\n",
    "    - Elasticsearch will check the version number of the document with the one in the query parameter\n",
    "    - if they both match, it can proceed to update\n",
    "    - if not, it will return an error\n",
    "    - it's a really simple example of __Optimistic Concurrency Control__\n",
    "* * can use the `_update` endpoint to only update some fields and not the entire document at once"
   ]
  },
  {
   "cell_type": "code",
   "execution_count": null,
   "id": "b8356518",
   "metadata": {},
   "outputs": [],
   "source": [
    "// PUT /books/_doc/kLEHMYkBq7V9x4qGJOnh\n",
    "{\n",
    "  \"title\": \"To Kill a Mockingbird\",\n",
    "  \"author\": \"Harper Lee\",\n",
    "  \"description\": \"A novel about racial injustice in the American South\",\n",
    "  \"price\": 13.99,\n",
    "  \"publish_date\": \"1960-07-11\",\n",
    "  \"categories\": [\"Classic\", \"Fiction\"],\n",
    "  \"reviews\": [\n",
    "    {\n",
    "      \"user\": \"reader3\",\n",
    "      \"rating\": 5,\n",
    "      \"comment\": \"Powerful and moving.\"\n",
    "    }\n",
    "  ]\n",
    "}\n",
    "\n",
    "// PUT /books/_doc/kLEHMYkBq7V9x4qGJOnh?version=1\n",
    "...\n",
    "\n",
    "// UPDATE ONLY PARTS OF THE DOCUMENT\n",
    "// POST /books/_update/kLEHMYkBq7V9x4qGJOnh\n",
    "{\n",
    "  \"doc\": {\n",
    "    \"price\": 14.99\n",
    "  }\n",
    "}"
   ]
  },
  {
   "cell_type": "markdown",
   "id": "df306640",
   "metadata": {},
   "source": [
    "## Search"
   ]
  },
  {
   "cell_type": "code",
   "execution_count": null,
   "id": "bcd63b09",
   "metadata": {},
   "outputs": [],
   "source": []
  },
  {
   "cell_type": "code",
   "execution_count": null,
   "id": "22b3e471",
   "metadata": {},
   "outputs": [],
   "source": []
  }
 ],
 "metadata": {
  "kernelspec": {
   "display_name": "JavaScript (Node.js)",
   "language": "javascript",
   "name": "javascript"
  },
  "language_info": {
   "file_extension": ".js",
   "mimetype": "application/javascript",
   "name": "javascript",
   "version": "16.14.2"
  }
 },
 "nbformat": 4,
 "nbformat_minor": 5
}
