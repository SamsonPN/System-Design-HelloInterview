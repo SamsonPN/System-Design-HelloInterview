{
 "cells": [
  {
   "cell_type": "markdown",
   "id": "513e8c34",
   "metadata": {},
   "source": [
    "# Redis"
   ]
  },
  {
   "cell_type": "markdown",
   "id": "6da11d91",
   "metadata": {},
   "source": [
    "## Redis Basics\n",
    "\n",
    "* Redis is a self-described \"data structure store\" that's in-memory and single-threaded\n",
    "    * Single-Threaded: simplifies order of operations and makes executing them really fast\n",
    "        - the first request is always the first one served and all subsequent requests have to wait\n",
    "        - you don't have to worry about complex locking mechanisms\n",
    "            * don't have multiple threads to coordinate for access to a single resource\n",
    "            * no deadlocks since no other threads or shared resources to wait on\n",
    "        - avoids race conditions since operations only happen once at a time\n",
    "    * In-Memory: makes operations very fast since it avoids the overhead of reading data from disk into memory through disk I/O\n",
    "        - but we have a tradeoff of speed for durability, meaning data saved in memory will not persist\n",
    "        - there are ways to minimze data loss but you don't get the same guarantees compared to a relational database\n",
    "* fundamental data structures supported by Redis:\n",
    "    - strings\n",
    "    - hashes (objects)\n",
    "    - lists\n",
    "    - sets\n",
    "    - sorted sets (priority queues)\n",
    "    - bloom filters\n",
    "    - geospatial indexes\n",
    "    - time series\n",
    "* also supports different communication patterns like Pub/Sub and Streams\n",
    "* __core structure underneath Redis is a key-value store__\n",
    "    - keys = strings\n",
    "    - values = any data structures supported by Redis\n",
    "    - __the way you organize the keys will be the way your organize your data and scale your Redis cluster__"
   ]
  },
  {
   "cell_type": "markdown",
   "id": "8deffea7",
   "metadata": {},
   "source": [
    "## Infrastructure Configurations"
   ]
  },
  {
   "cell_type": "code",
   "execution_count": null,
   "id": "c84e43e8",
   "metadata": {},
   "outputs": [],
   "source": []
  },
  {
   "cell_type": "code",
   "execution_count": null,
   "id": "69e0864f",
   "metadata": {},
   "outputs": [],
   "source": []
  },
  {
   "cell_type": "code",
   "execution_count": null,
   "id": "98fb2c58",
   "metadata": {},
   "outputs": [],
   "source": []
  }
 ],
 "metadata": {
  "kernelspec": {
   "display_name": "JavaScript (Node.js)",
   "language": "javascript",
   "name": "javascript"
  },
  "language_info": {
   "file_extension": ".js",
   "mimetype": "application/javascript",
   "name": "javascript",
   "version": "16.14.2"
  }
 },
 "nbformat": 4,
 "nbformat_minor": 5
}
