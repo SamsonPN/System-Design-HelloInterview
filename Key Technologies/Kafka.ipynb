{
 "cells": [
  {
   "cell_type": "markdown",
   "id": "d871cef9",
   "metadata": {},
   "source": [
    "# Kafka\n",
    "\n",
    "* Apache Kafka: open-source distributed event streaming platform\n",
    "    - used as either a message queue or as a stream processing system\n",
    "    - high performance, scalable, and durable\n",
    "    - can handle a lot of data in real-time"
   ]
  },
  {
   "cell_type": "markdown",
   "id": "ec11bf42",
   "metadata": {},
   "source": [
    "## Basic Terminology and Architecture\n",
    "\n",
    "* `broker`: the physical/virtual servers that host the Kafka `partitions`\n",
    "    - they store data and serve clients\n",
    "    - Kafka clusters are made up of multiple brokers\n",
    "* `partitions`: ordered, immutable sequence of messages\n",
    "    - like an append-only log file\n",
    "    - these help Kafka scale since they allow producers to append messages while allowing consumers to process them in parallel\n",
    "* `topics`: logical grouping of partitions\n",
    "    - e.g. partitions for basketball matches or soccer matches, etc\n",
    "    - you publish/subscribe to data in Kafka using topics\n",
    "    - topics are multi-producer: can have many producers writing data to it\n",
    "    - topics can have multiple partitions that are in different brokers\n",
    "* `producers`: they write data to the topics\n",
    "* `consumers`: read data from topics"
   ]
  },
  {
   "cell_type": "markdown",
   "id": "67d50587",
   "metadata": {},
   "source": [
    "## How Kafka Works"
   ]
  },
  {
   "cell_type": "code",
   "execution_count": null,
   "id": "0bc9a563",
   "metadata": {},
   "outputs": [],
   "source": []
  },
  {
   "cell_type": "code",
   "execution_count": null,
   "id": "3e0dd049",
   "metadata": {},
   "outputs": [],
   "source": []
  },
  {
   "cell_type": "code",
   "execution_count": null,
   "id": "acf7ebef",
   "metadata": {},
   "outputs": [],
   "source": []
  }
 ],
 "metadata": {
  "kernelspec": {
   "display_name": "JavaScript (Node.js)",
   "language": "javascript",
   "name": "javascript"
  },
  "language_info": {
   "file_extension": ".js",
   "mimetype": "application/javascript",
   "name": "javascript",
   "version": "16.14.2"
  }
 },
 "nbformat": 4,
 "nbformat_minor": 5
}
