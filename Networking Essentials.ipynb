{
 "cells": [
  {
   "cell_type": "markdown",
   "id": "c60e8eb7",
   "metadata": {},
   "source": [
    "# Networking Essentials"
   ]
  },
  {
   "cell_type": "markdown",
   "id": "50d492d5",
   "metadata": {},
   "source": [
    "## OSI Model\n",
    "\n",
    "* only focused on a couple of layers\n",
    "* basically abstraction and build on each other\n",
    "* Network Layer (3): IP\n",
    "    - most will use IP\n",
    "* Transport Layer (4): TCP/UDP\n",
    "    - built on top of IP\n",
    "* Application Layer (7): HTTP/Web sockets\n",
    "* for an HTTP request, these layers help each other\n",
    "* latency - back and forth\n",
    "* state -> a connection established/terminated\n",
    "    - how do you manage state?"
   ]
  },
  {
   "cell_type": "markdown",
   "id": "88d645cf",
   "metadata": {},
   "source": [
    "## Layer 3 (Network)\n",
    "\n",
    "* IP = internet protocol\n",
    "    - gives usable names to nodes and routing\n",
    "* IPv4 = 4 byte\n",
    "    - internet uses this\n",
    "* IPv6 = 16 bytes (2 byte pairs)\n",
    "    - for external use\n",
    "    - we basically ran out of IPv4 addresses\n",
    "* Public IP: routers aware of them\n",
    "    - know to the world\n",
    "* Private IP: assign your nodes any name\n",
    "    - only have to remember where they are\n",
    "* for system design:\n",
    "    - public: for external components\n",
    "        * API gateway, load balance\n",
    "    - private: for everything else\n",
    "        * e.g. microservices"
   ]
  },
  {
   "cell_type": "markdown",
   "id": "67697c96",
   "metadata": {},
   "source": [
    "## Layer 4 (Transport)\n",
    "\n",
    "* w/ IP, we can send __packets__ or data to a host but we are missing 2 things:\n",
    "    1. context: where data goes to/comes from\n",
    "        - can use ports but might not be enough\n",
    "    2. ordering of packets/delivery success\n",
    "        - not provided by IP itself but through protocols\n",
    "* 3 protocols:\n",
    "    1. TCP (default)\n",
    "    2. UDP\n",
    "    3. QUIC (similar to TCP but modern)\n",
    "\n",
    "### TCP: guaranteed delivery / ordering\n",
    "\n",
    "* creates a sequence of packets (numbering)\n",
    "* if order of packets is wrong, know that something went wrong\n",
    "* identifies packet loss\n",
    "* TCP mitigates some network failures\n",
    "* __costs__: throughput/latency\n",
    "    - TCP needs to restransmit lost packets\n",
    "    - can take time\n",
    "\n",
    "### UDP: higher performance / spray + pray\n",
    "\n",
    "* cannot guarantee delivery\n",
    "* e.g. zoom call, if connection dropped, it doesn't matter\n",
    "* for real-time apps, e.g. MMOs or online games\n",
    "\n",
    "### TCP or UDP?\n",
    "\n",
    "* TCP by default unless __latency__ is very important\n",
    "* or you can handle packets missing/out of order\n",
    "* UDP __NOT__ supported by browsers natively"
   ]
  },
  {
   "cell_type": "markdown",
   "id": "3a310129",
   "metadata": {},
   "source": [
    "## Layer 7 (Application)\n",
    "\n",
    "### HTTP:\n",
    "\n",
    "- most popular protocol\n",
    "- versatile/battle-tested\n",
    "- request/response\n",
    "    - request: HTTP verb determines intent of request\n",
    "        - headers = any info about request\n",
    "        - e.g. content-type or your own\n",
    "    - response: containing data, status code, and headers\n",
    "- __content negotiation__: allows HTTP to be backwards/forwards compatible\n",
    "    - request might ask for JSON but if server doesn't have it, its header will indicate that it can send back plain text instead\n",
    "- __REST API__: representational state transfer\n",
    "    - most common way to build APIs on top of HTTP\n",
    "    - allows use of HTTP verbs to describe wanted operation/intent\n",
    "    - resources => URLs associated w/ resources\n",
    "    - organizing APIs around URLs and verbs\n",
    "    - pretty much the default\n"
   ]
  },
  {
   "cell_type": "code",
   "execution_count": null,
   "id": "0b48e781",
   "metadata": {},
   "outputs": [],
   "source": []
  }
 ],
 "metadata": {
  "kernelspec": {
   "display_name": "JavaScript (Node.js)",
   "language": "javascript",
   "name": "javascript"
  },
  "language_info": {
   "file_extension": ".js",
   "mimetype": "application/javascript",
   "name": "javascript",
   "version": "16.14.2"
  }
 },
 "nbformat": 4,
 "nbformat_minor": 5
}
